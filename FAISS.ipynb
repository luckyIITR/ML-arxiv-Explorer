{
 "cells": [
  {
   "cell_type": "code",
   "execution_count": 1,
   "id": "787da3d7-e09f-4c6f-89f2-8a258f140014",
   "metadata": {},
   "outputs": [],
   "source": [
    "import numpy as np\n",
    "\n",
    "# 1000 vectors of 128 dimensions\n",
    "data = np.random.random((1000, 128)).astype('float32')\n",
    "\n",
    "# Query vector\n",
    "query = np.random.random((1, 128)).astype('float32')"
   ]
  },
  {
   "cell_type": "code",
   "execution_count": 2,
   "id": "705acc7a-9b8c-4b44-8f06-c25575c12853",
   "metadata": {},
   "outputs": [
    {
     "data": {
      "text/plain": [
       "((1000, 128), (1, 128))"
      ]
     },
     "execution_count": 2,
     "metadata": {},
     "output_type": "execute_result"
    }
   ],
   "source": [
    "data.shape, query.shape"
   ]
  },
  {
   "cell_type": "markdown",
   "id": "6819b863-1b67-4f60-985b-79f630042669",
   "metadata": {},
   "source": [
    "# Build a simple FAISS index (exact)"
   ]
  },
  {
   "cell_type": "code",
   "execution_count": 3,
   "id": "7af951a4-cae2-4788-86d7-44e1939cfb61",
   "metadata": {},
   "outputs": [
    {
     "name": "stdout",
     "output_type": "stream",
     "text": [
      "Indices: [[983  11 661 400 542]]\n",
      "Distances: [[13.7595625 14.354604  14.505953  14.839863  15.3623295]]\n"
     ]
    }
   ],
   "source": [
    "import faiss\n",
    "\n",
    "index = faiss.IndexFlatL2(128)  # L2 = Euclidean distance\n",
    "index.add(data)  # Add vectors to the index\n",
    "\n",
    "# Search\n",
    "k = 5  # top-5\n",
    "D, I = index.search(query, k)\n",
    "\n",
    "print(\"Indices:\", I)\n",
    "print(\"Distances:\", D)"
   ]
  },
  {
   "cell_type": "markdown",
   "id": "ee064318-b7ca-470f-ab66-1092c15ab669",
   "metadata": {},
   "source": [
    "# Use FAISS with approximate search"
   ]
  },
  {
   "cell_type": "code",
   "execution_count": 5,
   "id": "8c3a4aac-00b9-46d1-b687-2c997543f7b9",
   "metadata": {},
   "outputs": [],
   "source": [
    "nlist = 10 # Number of clusters\n",
    "quantizer = faiss.IndexFlatL2(128)\n",
    "index = faiss.IndexIVFFlat(quantizer, 128, nlist)\n",
    "\n",
    "index.train(data)      # Train the clustering\n",
    "index.add(data)        # Add vectors\n",
    "index.nprobe = 10      # Number of clusters to search\n",
    "\n",
    "D, I = index.search(query, k)"
   ]
  },
  {
   "cell_type": "code",
   "execution_count": 6,
   "id": "07120bb2-1319-4438-a0d9-38d2aa16ec82",
   "metadata": {},
   "outputs": [
    {
     "name": "stdout",
     "output_type": "stream",
     "text": [
      "Indices: [[983  11 661 400 542]]\n",
      "Distances: [[13.7595625 14.354604  14.505953  14.839863  15.3623295]]\n"
     ]
    }
   ],
   "source": [
    "print(\"Indices:\", I)\n",
    "print(\"Distances:\", D)"
   ]
  }
 ],
 "metadata": {
  "kernelspec": {
   "display_name": "Python 3 (ipykernel)",
   "language": "python",
   "name": "python3"
  },
  "language_info": {
   "codemirror_mode": {
    "name": "ipython",
    "version": 3
   },
   "file_extension": ".py",
   "mimetype": "text/x-python",
   "name": "python",
   "nbconvert_exporter": "python",
   "pygments_lexer": "ipython3",
   "version": "3.11.11"
  }
 },
 "nbformat": 4,
 "nbformat_minor": 5
}
