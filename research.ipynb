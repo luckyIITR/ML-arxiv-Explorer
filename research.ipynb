{
 "cells": [
  {
   "cell_type": "markdown",
   "id": "0ec07837-2986-443e-a984-b97b4c4b780d",
   "metadata": {},
   "source": [
    "Abstracts = documents for similarity search.\n",
    "\n",
    "Query = user input.\n",
    "\n",
    "want to display the title of the matched paper (not just the abstract) in the final output."
   ]
  },
  {
   "cell_type": "code",
   "execution_count": 1,
   "id": "f8844721-6f96-4aa4-95cb-e921a65c3b85",
   "metadata": {},
   "outputs": [],
   "source": [
    "import pandas as pd"
   ]
  },
  {
   "cell_type": "code",
   "execution_count": 3,
   "id": "63d78725-dd13-4d71-98a3-27eb403f33b7",
   "metadata": {},
   "outputs": [],
   "source": [
    "df = pd.read_csv('data/ML-Arxiv-Papers.csv')\n",
    "df = df[['title', 'abstract']]"
   ]
  },
  {
   "cell_type": "code",
   "execution_count": 4,
   "id": "e444dff1-6e22-4091-981b-07179a52c21a",
   "metadata": {},
   "outputs": [
    {
     "data": {
      "text/html": [
       "<div>\n",
       "<style scoped>\n",
       "    .dataframe tbody tr th:only-of-type {\n",
       "        vertical-align: middle;\n",
       "    }\n",
       "\n",
       "    .dataframe tbody tr th {\n",
       "        vertical-align: top;\n",
       "    }\n",
       "\n",
       "    .dataframe thead th {\n",
       "        text-align: right;\n",
       "    }\n",
       "</style>\n",
       "<table border=\"1\" class=\"dataframe\">\n",
       "  <thead>\n",
       "    <tr style=\"text-align: right;\">\n",
       "      <th></th>\n",
       "      <th>title</th>\n",
       "      <th>abstract</th>\n",
       "    </tr>\n",
       "  </thead>\n",
       "  <tbody>\n",
       "    <tr>\n",
       "      <th>0</th>\n",
       "      <td>Learning from compressed observations</td>\n",
       "      <td>The problem of statistical learning is to co...</td>\n",
       "    </tr>\n",
       "    <tr>\n",
       "      <th>1</th>\n",
       "      <td>Sensor Networks with Random Links: Topology De...</td>\n",
       "      <td>In a sensor network, in practice, the commun...</td>\n",
       "    </tr>\n",
       "    <tr>\n",
       "      <th>2</th>\n",
       "      <td>The on-line shortest path problem under partia...</td>\n",
       "      <td>The on-line shortest path problem is conside...</td>\n",
       "    </tr>\n",
       "    <tr>\n",
       "      <th>3</th>\n",
       "      <td>A neural network approach to ordinal regression</td>\n",
       "      <td>Ordinal regression is an important type of l...</td>\n",
       "    </tr>\n",
       "    <tr>\n",
       "      <th>4</th>\n",
       "      <td>Parametric Learning and Monte Carlo Optimization</td>\n",
       "      <td>This paper uncovers and explores the close r...</td>\n",
       "    </tr>\n",
       "  </tbody>\n",
       "</table>\n",
       "</div>"
      ],
      "text/plain": [
       "                                               title  \\\n",
       "0              Learning from compressed observations   \n",
       "1  Sensor Networks with Random Links: Topology De...   \n",
       "2  The on-line shortest path problem under partia...   \n",
       "3    A neural network approach to ordinal regression   \n",
       "4   Parametric Learning and Monte Carlo Optimization   \n",
       "\n",
       "                                            abstract  \n",
       "0    The problem of statistical learning is to co...  \n",
       "1    In a sensor network, in practice, the commun...  \n",
       "2    The on-line shortest path problem is conside...  \n",
       "3    Ordinal regression is an important type of l...  \n",
       "4    This paper uncovers and explores the close r...  "
      ]
     },
     "execution_count": 4,
     "metadata": {},
     "output_type": "execute_result"
    }
   ],
   "source": [
    "df.head()"
   ]
  },
  {
   "cell_type": "code",
   "execution_count": 127,
   "id": "9defa95a-b76c-4b4d-97f4-2852c234953f",
   "metadata": {},
   "outputs": [],
   "source": [
    "abstracts = df['abstract'].values[:500]"
   ]
  },
  {
   "cell_type": "code",
   "execution_count": 128,
   "id": "227cf9e7-8acb-421b-a55f-d15d5a85fe22",
   "metadata": {},
   "outputs": [
    {
     "data": {
      "text/plain": [
       "500"
      ]
     },
     "execution_count": 128,
     "metadata": {},
     "output_type": "execute_result"
    }
   ],
   "source": [
    "len(abstracts)"
   ]
  },
  {
   "cell_type": "code",
   "execution_count": 129,
   "id": "12e2ac33-ba21-4cbe-9cd0-976a32ad4051",
   "metadata": {},
   "outputs": [],
   "source": [
    "from sentence_transformers import SentenceTransformer\n",
    "import numpy as np\n",
    "import faiss"
   ]
  },
  {
   "cell_type": "code",
   "execution_count": 130,
   "id": "1eef0071-45c8-4459-9047-6ba926de7c89",
   "metadata": {},
   "outputs": [],
   "source": [
    "bi_encoder = SentenceTransformer('all-MiniLM-L6-v2')"
   ]
  },
  {
   "cell_type": "markdown",
   "id": "0fcf5343-f254-40ab-99ba-343417e92dcf",
   "metadata": {},
   "source": [
    "### Encode Documents with Bi-Encoder"
   ]
  },
  {
   "cell_type": "code",
   "execution_count": 131,
   "id": "32042494-acc7-4bf5-8e7c-e76d04906e91",
   "metadata": {},
   "outputs": [],
   "source": [
    "# Step 1: Encode all documents\n",
    "abstracts_embeddings = bi_encoder.encode(abstracts, convert_to_numpy=True)\n",
    "\n",
    "# Step 2: Build FAISS index\n",
    "index = faiss.IndexFlatL2(abstracts_embeddings.shape[1])\n",
    "index.add(abstracts_embeddings)"
   ]
  },
  {
   "cell_type": "code",
   "execution_count": 132,
   "id": "b7779e74-4299-4a6f-922d-75d4d75828c9",
   "metadata": {},
   "outputs": [
    {
     "data": {
      "text/plain": [
       "(500, 384)"
      ]
     },
     "execution_count": 132,
     "metadata": {},
     "output_type": "execute_result"
    }
   ],
   "source": [
    "abstracts_embeddings.shape"
   ]
  },
  {
   "cell_type": "markdown",
   "id": "eeb03eb2-bb61-4865-87cd-b5db8c1dc6d5",
   "metadata": {},
   "source": [
    "### Cross-Encoder for Reranking"
   ]
  },
  {
   "cell_type": "code",
   "execution_count": 133,
   "id": "c4d4888b-4f8f-4e85-87c8-e7b8a287337d",
   "metadata": {},
   "outputs": [],
   "source": [
    "from sentence_transformers import CrossEncoder\n",
    "\n",
    "cross_encoder = CrossEncoder('cross-encoder/ms-marco-MiniLM-L-6-v2')\n"
   ]
  },
  {
   "cell_type": "markdown",
   "id": "b8ae9796-b580-44ac-921a-15aa3764ba5f",
   "metadata": {},
   "source": [
    "### Search Pipeline"
   ]
  },
  {
   "cell_type": "code",
   "execution_count": 134,
   "id": "de617f3e-cd5e-47fa-9dbf-b59d6301a7fa",
   "metadata": {},
   "outputs": [],
   "source": [
    "query = 'problem of statistical learning'\n",
    "top_k = 3"
   ]
  },
  {
   "cell_type": "code",
   "execution_count": 135,
   "id": "1e16b3b4-9aac-4057-9f22-c6f084933834",
   "metadata": {},
   "outputs": [
    {
     "data": {
      "text/html": [
       "<div>\n",
       "<style scoped>\n",
       "    .dataframe tbody tr th:only-of-type {\n",
       "        vertical-align: middle;\n",
       "    }\n",
       "\n",
       "    .dataframe tbody tr th {\n",
       "        vertical-align: top;\n",
       "    }\n",
       "\n",
       "    .dataframe thead th {\n",
       "        text-align: right;\n",
       "    }\n",
       "</style>\n",
       "<table border=\"1\" class=\"dataframe\">\n",
       "  <thead>\n",
       "    <tr style=\"text-align: right;\">\n",
       "      <th></th>\n",
       "      <th>title</th>\n",
       "      <th>abstract</th>\n",
       "    </tr>\n",
       "  </thead>\n",
       "  <tbody>\n",
       "    <tr>\n",
       "      <th>117</th>\n",
       "      <td>Statistical Learning of Arbitrary Computable C...</td>\n",
       "      <td>Statistical learning theory chiefly studies ...</td>\n",
       "    </tr>\n",
       "    <tr>\n",
       "      <th>288</th>\n",
       "      <td>Equations of States in Statistical Learning fo...</td>\n",
       "      <td>Many learning machines that have hierarchica...</td>\n",
       "    </tr>\n",
       "    <tr>\n",
       "      <th>111</th>\n",
       "      <td>Learning Low-Density Separators</td>\n",
       "      <td>We define a novel, basic, unsupervised learn...</td>\n",
       "    </tr>\n",
       "  </tbody>\n",
       "</table>\n",
       "</div>"
      ],
      "text/plain": [
       "                                                 title  \\\n",
       "117  Statistical Learning of Arbitrary Computable C...   \n",
       "288  Equations of States in Statistical Learning fo...   \n",
       "111                    Learning Low-Density Separators   \n",
       "\n",
       "                                              abstract  \n",
       "117    Statistical learning theory chiefly studies ...  \n",
       "288    Many learning machines that have hierarchica...  \n",
       "111    We define a novel, basic, unsupervised learn...  "
      ]
     },
     "execution_count": 135,
     "metadata": {},
     "output_type": "execute_result"
    }
   ],
   "source": [
    "# Bi-Encoder stage\n",
    "query_embedding = bi_encoder.encode(query, convert_to_numpy=True)\n",
    "_, top_k_indices = index.search(np.array([query_embedding]), top_k)\n",
    "candidates = df.iloc[top_k_indices[0]].copy()\n",
    "candidates"
   ]
  },
  {
   "cell_type": "code",
   "execution_count": 136,
   "id": "8eac5c57-da6b-48b5-9aa4-5209f463d214",
   "metadata": {},
   "outputs": [],
   "source": [
    "# Cross-Encoder Reranking\n",
    "pairs = [[query, abstract] for abstract in candidates['abstract'].values]"
   ]
  },
  {
   "cell_type": "code",
   "execution_count": 137,
   "id": "a8a817cb-9322-4f4e-a1dd-376ce042b591",
   "metadata": {},
   "outputs": [
    {
     "data": {
      "text/plain": [
       "array([5.4768353, 3.9468727, 2.9747014], dtype=float32)"
      ]
     },
     "execution_count": 137,
     "metadata": {},
     "output_type": "execute_result"
    }
   ],
   "source": [
    "scores = cross_encoder.predict(pairs)\n",
    "scores"
   ]
  },
  {
   "cell_type": "code",
   "execution_count": 138,
   "id": "2f895037-4c24-444f-bb03-26b7a2bfebd1",
   "metadata": {},
   "outputs": [],
   "source": [
    "candidates['scores'] = scores"
   ]
  },
  {
   "cell_type": "code",
   "execution_count": 139,
   "id": "0057f5b9-6597-4560-8ff7-e1134addea03",
   "metadata": {},
   "outputs": [
    {
     "data": {
      "text/html": [
       "<div>\n",
       "<style scoped>\n",
       "    .dataframe tbody tr th:only-of-type {\n",
       "        vertical-align: middle;\n",
       "    }\n",
       "\n",
       "    .dataframe tbody tr th {\n",
       "        vertical-align: top;\n",
       "    }\n",
       "\n",
       "    .dataframe thead th {\n",
       "        text-align: right;\n",
       "    }\n",
       "</style>\n",
       "<table border=\"1\" class=\"dataframe\">\n",
       "  <thead>\n",
       "    <tr style=\"text-align: right;\">\n",
       "      <th></th>\n",
       "      <th>title</th>\n",
       "      <th>abstract</th>\n",
       "      <th>scores</th>\n",
       "    </tr>\n",
       "  </thead>\n",
       "  <tbody>\n",
       "    <tr>\n",
       "      <th>117</th>\n",
       "      <td>Statistical Learning of Arbitrary Computable C...</td>\n",
       "      <td>Statistical learning theory chiefly studies ...</td>\n",
       "      <td>5.476835</td>\n",
       "    </tr>\n",
       "    <tr>\n",
       "      <th>288</th>\n",
       "      <td>Equations of States in Statistical Learning fo...</td>\n",
       "      <td>Many learning machines that have hierarchica...</td>\n",
       "      <td>3.946873</td>\n",
       "    </tr>\n",
       "    <tr>\n",
       "      <th>111</th>\n",
       "      <td>Learning Low-Density Separators</td>\n",
       "      <td>We define a novel, basic, unsupervised learn...</td>\n",
       "      <td>2.974701</td>\n",
       "    </tr>\n",
       "  </tbody>\n",
       "</table>\n",
       "</div>"
      ],
      "text/plain": [
       "                                                 title  \\\n",
       "117  Statistical Learning of Arbitrary Computable C...   \n",
       "288  Equations of States in Statistical Learning fo...   \n",
       "111                    Learning Low-Density Separators   \n",
       "\n",
       "                                              abstract    scores  \n",
       "117    Statistical learning theory chiefly studies ...  5.476835  \n",
       "288    Many learning machines that have hierarchica...  3.946873  \n",
       "111    We define a novel, basic, unsupervised learn...  2.974701  "
      ]
     },
     "execution_count": 139,
     "metadata": {},
     "output_type": "execute_result"
    }
   ],
   "source": [
    "# Sort by score\n",
    "candidates.sort_values('scores', ascending=False, inplace=True)\n",
    "candidates"
   ]
  },
  {
   "cell_type": "code",
   "execution_count": 140,
   "id": "6cefd1d9-e4bc-4944-a0c6-90babe80e2f0",
   "metadata": {},
   "outputs": [],
   "source": [
    "# Search Pipeline\n",
    "def search(query, top_k=5):\n",
    "    # Bi-Encoder stage\n",
    "    query_embedding = bi_encoder.encode(query, convert_to_numpy=True)\n",
    "    _, top_k_indices = index.search(np.array([query_embedding]), top_k)\n",
    "    candidates = df.iloc[top_k_indices[0]].copy()\n",
    "\n",
    "    # Cross-Encoder Reranking\n",
    "    pairs = [[query, abstract] for abstract in candidates['abstract'].values]\n",
    "    scores = cross_encoder.predict(pairs)\n",
    "\n",
    "    candidates['scores'] = scores\n",
    "    candidates.sort_values('scores', ascending=False, inplace=True)\n",
    "    return candidates"
   ]
  },
  {
   "cell_type": "code",
   "execution_count": 141,
   "id": "7c9ec530-5cb6-4d1c-9c3a-e92bc911d665",
   "metadata": {},
   "outputs": [
    {
     "data": {
      "text/html": [
       "<div>\n",
       "<style scoped>\n",
       "    .dataframe tbody tr th:only-of-type {\n",
       "        vertical-align: middle;\n",
       "    }\n",
       "\n",
       "    .dataframe tbody tr th {\n",
       "        vertical-align: top;\n",
       "    }\n",
       "\n",
       "    .dataframe thead th {\n",
       "        text-align: right;\n",
       "    }\n",
       "</style>\n",
       "<table border=\"1\" class=\"dataframe\">\n",
       "  <thead>\n",
       "    <tr style=\"text-align: right;\">\n",
       "      <th></th>\n",
       "      <th>title</th>\n",
       "      <th>abstract</th>\n",
       "      <th>scores</th>\n",
       "    </tr>\n",
       "  </thead>\n",
       "  <tbody>\n",
       "    <tr>\n",
       "      <th>117</th>\n",
       "      <td>Statistical Learning of Arbitrary Computable C...</td>\n",
       "      <td>Statistical learning theory chiefly studies ...</td>\n",
       "      <td>5.476835</td>\n",
       "    </tr>\n",
       "    <tr>\n",
       "      <th>288</th>\n",
       "      <td>Equations of States in Statistical Learning fo...</td>\n",
       "      <td>Many learning machines that have hierarchica...</td>\n",
       "      <td>3.946873</td>\n",
       "    </tr>\n",
       "    <tr>\n",
       "      <th>111</th>\n",
       "      <td>Learning Low-Density Separators</td>\n",
       "      <td>We define a novel, basic, unsupervised learn...</td>\n",
       "      <td>2.974701</td>\n",
       "    </tr>\n",
       "    <tr>\n",
       "      <th>269</th>\n",
       "      <td>Introduction to Machine Learning: Class Notes ...</td>\n",
       "      <td>Introduction to Machine learning covering St...</td>\n",
       "      <td>-0.372652</td>\n",
       "    </tr>\n",
       "    <tr>\n",
       "      <th>467</th>\n",
       "      <td>A Generalization of the Chow-Liu Algorithm and...</td>\n",
       "      <td>We extend the Chow-Liu algorithm for general...</td>\n",
       "      <td>-8.988293</td>\n",
       "    </tr>\n",
       "  </tbody>\n",
       "</table>\n",
       "</div>"
      ],
      "text/plain": [
       "                                                 title  \\\n",
       "117  Statistical Learning of Arbitrary Computable C...   \n",
       "288  Equations of States in Statistical Learning fo...   \n",
       "111                    Learning Low-Density Separators   \n",
       "269  Introduction to Machine Learning: Class Notes ...   \n",
       "467  A Generalization of the Chow-Liu Algorithm and...   \n",
       "\n",
       "                                              abstract    scores  \n",
       "117    Statistical learning theory chiefly studies ...  5.476835  \n",
       "288    Many learning machines that have hierarchica...  3.946873  \n",
       "111    We define a novel, basic, unsupervised learn...  2.974701  \n",
       "269    Introduction to Machine learning covering St... -0.372652  \n",
       "467    We extend the Chow-Liu algorithm for general... -8.988293  "
      ]
     },
     "execution_count": 141,
     "metadata": {},
     "output_type": "execute_result"
    }
   ],
   "source": [
    "search(query)"
   ]
  },
  {
   "cell_type": "code",
   "execution_count": null,
   "id": "97948623-d5d9-48a2-8499-5540bbecdb1d",
   "metadata": {},
   "outputs": [],
   "source": []
  }
 ],
 "metadata": {
  "kernelspec": {
   "display_name": "Python 3 (ipykernel)",
   "language": "python",
   "name": "python3"
  },
  "language_info": {
   "codemirror_mode": {
    "name": "ipython",
    "version": 3
   },
   "file_extension": ".py",
   "mimetype": "text/x-python",
   "name": "python",
   "nbconvert_exporter": "python",
   "pygments_lexer": "ipython3",
   "version": "3.11.11"
  }
 },
 "nbformat": 4,
 "nbformat_minor": 5
}
